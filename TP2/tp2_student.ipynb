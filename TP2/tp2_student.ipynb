{
 "cells": [
  {
   "cell_type": "markdown",
   "metadata": {},
   "source": [
    "<font size=6  color=#003366> [LEPL1109] - STATISTICS AND DATA SCIENCES <br><br> \n",
    "(PART II) TP 02 - When the best is the enemy of the good...   </font> <br><br><br>\n",
    "\n",
    "<font size=5  color=#003366>\n",
    "Prof. D. Hainaut<br>\n",
    "Prof. L. Jacques<br>\n",
    "\n",
    "<br><br>\n",
    "Anne-Sophie Collin [ASC]   (anne-sophie.collin@uclouvain.be)<br><br>\n",
    "Cécile Hautecoeur [CH]    (cecile.hautecoeur@uclouvain.be)<br> <br>\n",
    "Guillaume Van Dessel [GVD] (guillaume.vandessel@uclouvain.be)<br><br>\n",
    "Loïc Van Hoorebeeck [LVH]  (loic.vanhoorebeeck@uclouvain.be)<br> <br>\n",
    "<div style=\"text-align: right\"> Version 4.2 (19 November 2020)</div>\n",
    "\n",
    "<br><br>\n",
    "</font>"
   ]
  },
  {
   "cell_type": "markdown",
   "metadata": {},
   "source": [
    "<br>\n",
    "\n",
    "<font size=7 color=#009999> 1. The problem of overfitting </font> <br><br> \n",
    "\n",
    "*Protip: Have a quick look to [`theory_tp2.pdf`](theory_tp2.pdf), for some reminder about some mathematical tools required to solve this exercice, as well as some complementatry information that can help your understanding.* \n",
    "\n",
    "<br>\n",
    "<font size=5 color=#009999> 1.1  Starter - A first taste of overfitting </font> <br>\n",
    "\n",
    "Assume a target variable $y \\in \\mathbb{R} $ from a single feature $x \\in \\mathbb{R}$. We want to create a polynomial model from a sample of $N$ observations: $(\\textbf{x}, \\textbf{y}) \\in \\mathbb{R}^{N} \\times \\mathbb{R}^{N}$. We will analyze three different regression models:\n",
    "\n",
    "- $f_0$: A *constant* linear regression model;\n",
    "- $f_1$: A linear regression model;\n",
    "- $f_4$: A polynomial (degree 4) regression model.\n",
    "\n",
    "The models are evaluated using the least-squares error between their predictions based on $\\textbf{x}$ and the observations $\\textbf{y}$: $$||\\mathbf{f}_p(\\textbf{x}) - \\textbf{y}||_2^2 \\, ,$$\n",
    "\n",
    "for $p \\in \\left \\{0, 1, 4 \\right \\}$.\n",
    "\n",
    "<div class=\"alert alert-block alert-info\">\n",
    "<b>Link between polynomial approximations and linear regressions:</b> \n",
    "    The polynomial model considered here is the following:\n",
    "    $$(f_p) \\qquad \\mathbf{y} =  \\mathbf{f}_p(\\mathbf{x})+ \\boldsymbol{\\epsilon} , $$\n",
    "    where \n",
    "    $$ \\mathbf{f}_p(\\mathbf{x}) := \\sum_{l=0}^p \\beta_l \\mathbf{x}^l ,$$\n",
    "    while the power function applied to the vector $\\mathbf{x}$ is taken component-wise.<br>\n",
    "    This approximation problem can be written as a standard data science problem. Indeed, it suffices to consider the <b>Vandermonde matrix</b>, $\\mathbf{V}_p$, of the data points:\n",
    "    $$ \\mathbf{V}_p :=        \\begin{bmatrix}\n",
    "            1 & x_1 & x_1^2 & \\dots & x_1^p \\\\\n",
    "            1 & x_2 & x_2^2 & \\dots & x_2^p \\\\\n",
    "            \\vdots & \\vdots & \\vdots & \\vdots \\\\\n",
    "            1 & x_N & x_N^2 & \\dots & x_N^p  \\\\\n",
    "        \\end{bmatrix}.$$ <br>\n",
    "    Using this matrix, the model becomes a classical linear regression model\n",
    "        $$ \\qquad \\mathbf{\\hat{y}} = \\mathbf{V}_p \\boldsymbol{\\beta}   . $$ <br>\n",
    "    In this way, we transformed our initial problem of <em>polynomial curve fitting</em> of a single feature $x$ to a <em>linear regression</em> of a set of $(p+1)$ artificially created features $(1, x, x^2, \\dots, x^p)$. Note that the Vandermonde matrix, $\\textbf{V}_p$, corresponds to the <b>feature matrix</b>, usually denoted as $\\textbf{X}$.\n",
    "    \n",
    "</div>\n",
    "\n",
    "<br>\n",
    "\n",
    "Therefore, the **evaluation of the models can be done through the cost function** (that should be as close to zero as possible):\n",
    "$$||\\textbf{V}_p \\boldsymbol{\\beta} - \\textbf{y}||_2^2,$$\n",
    "where $\\beta$ is the vector of coefficients of the polynomial model.\n",
    "\n",
    "Using this cost function, the optimal solution is called the solution in the *least-squares* sense and is computed as\n",
    "\n",
    "\n",
    "$$\\boldsymbol{\\beta}^* = (\\mathbf{V_p}^T \\mathbf{V_p})^{-1} \\mathbf{V_p}^T \\mathbf{y} \\, . \\qquad (1)$$\n",
    "\n",
    "<br>\n",
    "\n",
    "<div class=\"alert alert-warning\">\n",
    "<b>[Question 1] polynomial regression models </b>  <br><br>\n",
    "    Given the data $(\\mathbf{X}, \\mathbf{y})$, and using equation (1), obtain the best polynomial models $f_0$, $f_1$ and $f_4$. Then use these models to get the predictions (<code>y_reg_p</code>) of your models at points <code>X_reg</code>.<br><br>    \n",
    "            <b>Discussion: </b><br>\n",
    "    <ol>\n",
    "        <li>Compare all three models, and explain the performance of each one. Do you observe any problem? How to detect and overcome this problem in practice?</li>\n",
    "        <li>Suppose you had split your data into train and test set, which model would have the best training error, and which model would have the best test error?</li>\n",
    "        <li>Print and discuss the value of $\\boldsymbol{\\beta}$ for each model.</li>\n",
    "    </ol><br><br>\n",
    "    <b>Bonus question</b>: Discuss the uniqueness of $\\boldsymbol{\\beta}$.\n",
    "    \n",
    "    \n",
    "</div> \n",
    "\n"
   ]
  },
  {
   "cell_type": "code",
   "execution_count": 1,
   "metadata": {},
   "outputs": [
    {
     "name": "stdout",
     "output_type": "stream",
     "text": [
      "Beta0 coefficient :\n",
      "[[6.884]]\n",
      "Beta1 coefficients :\n",
      "[[-0.05624113]\n",
      " [ 2.94078014]]\n",
      "Beta4 coefficients :\n",
      "[[-160.0706583 ]\n",
      " [ 332.73415865]\n",
      " [-236.99761943]\n",
      " [  70.95984292]\n",
      " [  -7.45669536]]\n"
     ]
    },
    {
     "data": {
      "image/png": "[encoded data removed]",
      "text/plain": [
       "<Figure size 432x288 with 1 Axes>"
      ]
     },
     "metadata": {
      "needs_background": "light"
     },
     "output_type": "display_data"
    }
   ],
   "source": [
    "import numpy as np\n",
    "import matplotlib.pyplot as plt\n",
    "\n",
    "# Synthetic data\n",
    "X = np.array([[1.1, 1.9, 2.3, 2.5, 4]]).T\n",
    "y = np.array([[2.7, 6.1, 6.2, 8, 11.42]]).T\n",
    "\n",
    "#Points at which the model is evaluated\n",
    "X_reg = np.reshape(np.linspace(1, 4, 100), (100, 1))\n",
    "\n",
    "#f0\n",
    "#Vandermonde matrices of degree 0 on the data (V_0) and on the evaluation points (V_reg_0)\n",
    "V_0 = np.reshape(np.ones_like(X), (len(X), 1))\n",
    "V_reg_0 = np.ones_like(X_reg)\n",
    "\n",
    "Beta0=np.linalg.inv((V_0.T)@(V_0)) @ V_0.T @ y\n",
    "y_reg_0 = V_reg_0@Beta0\n",
    "\n",
    "print(f\"Beta0 coefficient :\\n{Beta0}\")\n",
    "\n",
    "#f1\n",
    "\n",
    "#Vandermonde matrices of degree 1 on the data (V_1) and on the evaluation points (V_reg_1)\n",
    "# numpy.hstack allows us to stack two vectors column wise. For example :\n",
    "# a=[[1],[2],[3]] ; b=[[5],[6],[7]] -> hstack(a,b) yields [[1,5],[2,6],[3,7]] \n",
    "# we add a column of 1 because we want the model to be : y = X*B -> beta0 + beta1*x\n",
    "V_1 = np.hstack((np.ones_like(X), X))\n",
    "V_reg_1 = np.hstack((np.ones_like(X_reg), X_reg))\n",
    "\n",
    "Beta1=np.linalg.inv((V_1.T)@(V_1)) @ V_1.T @ y\n",
    "y_reg_1 = V_reg_1@Beta1\n",
    "\n",
    "print(f\"Beta1 coefficients :\\n{Beta1}\")\n",
    "#f4\n",
    "\n",
    "#Vandermonde matrices of degree 4 on the data (V_4) and on the evaluation points (V_reg_4)\n",
    "V_4 = np.hstack((np.ones_like(X), X, np.power(X, 2), np.power(X, 3), np.power(X, 4)))\n",
    "V_reg_4 = np.hstack((np.ones_like(X_reg), X_reg, np.power(X_reg, 2), np.power(X_reg, 3), np.power(X_reg, 4))) \n",
    "\n",
    "Beta4=np.linalg.inv((V_4.T)@(V_4)) @ V_4.T @ y\n",
    "y_reg_4 = V_reg_4@Beta4\n",
    "\n",
    "print(f\"Beta4 coefficients :\\n{Beta4}\")\n",
    "\n",
    "plt.scatter(X, y, label='data')\n",
    "plt.plot(X_reg, y_reg_0, color='r', label='$f_0$')\n",
    "plt.plot(X_reg, y_reg_1, color='g', label='$f_1$')\n",
    "plt.plot(X_reg, y_reg_4, color='b', label='$f_4$')\n",
    "plt.xlabel(\"x\")\n",
    "plt.ylabel(\"y\")\n",
    "plt.title(\"Polynomial models $f_0$, $f_1$ and $f_4$\")\n",
    "\n",
    "plt.legend()\n",
    "plt.show()"
   ]
  },
  {
   "cell_type": "markdown",
   "metadata": {},
   "source": [
    "#### Compare all three models, and explain the performance of each one. Do you observe any problem? How to detect and overcome this problem in practice?\n",
    "$f_0$ is simply a line, it underfits the data we don't have any prediction power with this method. <br>\n",
    "$f_1$ is a linear regression, it fits pretty well the 5 points and we have some prediction power with it. <br>\n",
    "$f_4$ completly overfits the data. A 4 power polynomial is able to fit through 5 points. Therefore it finds the polynome that goes through those 5 points. But if we look at the value it would yield for 3.5, it's a lot bigger than what $f_1$ would say. <br>\n",
    "If we want to detect this problem we should split our data into a training and a test set to check the accuracy of the model for new unknown values.\n",
    "\n",
    "#### Suppose you had split your data into train and test set, which model would have the best training error, and which model would have the best test error?\n",
    "$f_4$ would have the best training error because it goes through each point therefore its training error is 0. We would however get the best test error with the linear model $f_1$ because it won't overfit the data. \n",
    "\n",
    "#### Print and discuss the value of  𝜷  for each model.\n",
    "Beta has very big values in $f_4$ (in comparison to the other). Moreover they oscillates between positive and negative values. Indeed, big coefficients have to counter-balance themselves to fit the data. It explains why we can observe big oscillation on the graph of $f_4$."
   ]
  },
  {
   "cell_type": "markdown",
   "metadata": {},
   "source": [
    "<br>\n",
    "<font size=5 color=#009999> 1.2 Main course - Regularization as a tool  </font> <br>\n",
    "\n",
    "We propose to use *Tikhonov regularization* as a tool to avoid our model to overfit the data. This is done by penalizing the euclidean norm of the model parameters. In particular, let $\\boldsymbol{\\beta}$ be the parameters, the optimization problem to obtain our regression model is now\n",
    "\n",
    "$$ \\min_{\\boldsymbol{\\beta}} {|| V \\boldsymbol{\\beta} - \\mathbf{y} ||_2^2 + \\lambda || \\boldsymbol{\\beta}||_2^2},  $$\n",
    "\n",
    "for a given metaparameter $\\lambda \\geq 0$.\n",
    "\n",
    "The optimal solution is now\n",
    "\n",
    "$$ \\boldsymbol{\\beta}^* = (\\mathbf{V_p}^T \\mathbf{V_p} + \\lambda \\boldsymbol{I}_{p+1})^{-1} (\\mathbf{V_p}^T \\mathbf{y}), $$\n",
    "\n",
    "with $\\textbf{I}_{p+1}$ the appropriate unitary matrix.\n",
    "\n",
    "<div class=\"alert alert-warning\">\n",
    "<b>[Question 2] Regularization of polynomial regression models </b>  <br>\n",
    "<ol>\n",
    "    <li> <b>Using the regularization: </b> Modify you code of the previous question to account for the regularization. How do the models perform with $\\lambda = 10^6$, $1$, $10^{-3}$ or $10^{-5}$? Print and discuss the values of $\\boldsymbol{\\beta}$.\n",
    "\n",
    "Give two advantages of such regularization.<br> <br>\n",
    "            <li> <b>  Playing with $\\lambda$: </b>Interpret the solution for $\\lambda = 0$ and $\\lambda \\to \\infty$, how would you choose the best $\\lambda$?\n",
    "\n",
    "Propose a modification of the objective to obtain a better solution for $\\lambda \\to \\infty$. \n",
    "</ol><br><br>\n",
    "    <b>Bonus question</b>: Discuss now the uniqueness of $\\boldsymbol{\\beta}$ for $\\lambda>0$.\n",
    "</div> \n"
   ]
  },
  {
   "cell_type": "code",
   "execution_count": 2,
   "metadata": {},
   "outputs": [
    {
     "name": "stdout",
     "output_type": "stream",
     "text": [
      "Beta4 coefficients with lambda = 10^6 :\n",
      "[[3.32198746e-05]\n",
      " [9.02146981e-05]\n",
      " [2.74828428e-04]\n",
      " [9.15518322e-04]\n",
      " [3.25430114e-03]]\n",
      "Beta4 coefficients with lambda = 10^-5 :\n",
      "[[-160.0706583 ]\n",
      " [ 332.73415865]\n",
      " [-236.99761943]\n",
      " [  70.95984292]\n",
      " [  -7.45669536]]\n"
     ]
    },
    {
     "data": {
      "image/png": "[encoded data removed]",
      "text/plain": [
       "<Figure size 432x288 with 1 Axes>"
      ]
     },
     "metadata": {
      "needs_background": "light"
     },
     "output_type": "display_data"
    }
   ],
   "source": [
    "import numpy as np\n",
    "import matplotlib.pyplot as plt\n",
    "\n",
    "\n",
    "# Synthetic data\n",
    "X = np.array([[1.1, 1.9, 2.3, 2.5, 4]]).T\n",
    "y = np.array([[2.7, 6.1, 6.2, 8, 11.42]]).T\n",
    "\n",
    "X_reg = np.reshape(np.linspace(1, 4, 100), (100, 1))\n",
    "lamb = 1\n",
    "\n",
    "V_4 = np.hstack((np.ones_like(X), X, np.power(X, 2), np.power(X, 3), np.power(X, 4)))\n",
    "V_reg_4 = np.hstack((np.ones_like(X_reg), X_reg, np.power(X_reg, 2), np.power(X_reg, 3), np.power(X_reg, 4))) \n",
    "\n",
    "onezie= np.zeros((len(X), len(X)), int)\n",
    "np.fill_diagonal(onezie, lamb)\n",
    "\n",
    "Beta4=np.linalg.inv((V_4.T)@(V_4) + onezie) @ V_4.T @ y\n",
    "y_reg_41 = V_reg_4@Beta4\n",
    "\n",
    "lamb = 10**6\n",
    "onezie= np.zeros((len(X), len(X)), int)\n",
    "np.fill_diagonal(onezie, lamb)\n",
    "\n",
    "Beta4=np.linalg.inv((V_4.T)@(V_4) + onezie) @ V_4.T @ y\n",
    "y_reg_4106 = V_reg_4@Beta4\n",
    "\n",
    "print(f'Beta4 coefficients with lambda = 10^6 :\\n{Beta4}')\n",
    "\n",
    "lamb = 10**-5\n",
    "onezie= np.zeros((len(X), len(X)), int)\n",
    "np.fill_diagonal(onezie, lamb)\n",
    "\n",
    "Beta4=np.linalg.inv((V_4.T)@(V_4) + onezie) @ V_4.T @ y\n",
    "y_reg_4105 = V_reg_4@Beta4\n",
    "\n",
    "print(f'Beta4 coefficients with lambda = 10^-5 :\\n{Beta4}')\n",
    "\n",
    "plt.scatter(X, y, label='data')\n",
    "plt.plot(X_reg, y_reg_4106, color='r', label='$f_4, \\lambda = 10^6$')\n",
    "plt.plot(X_reg, y_reg_4105, color='g', label='$f_4, \\lambda = 10^-5$')\n",
    "plt.plot(X_reg, y_reg_41, color='b', label='$f_4, \\lambda = 1$')\n",
    "plt.xlabel(\"x\")\n",
    "plt.ylabel(\"y\")\n",
    "plt.title(\"Polynomial models $f_0$, $f_1$ and $f_4$\")\n",
    "\n",
    "plt.legend()\n",
    "plt.show()\n",
    "\n",
    "#We advice you to use and adapt the code from previous exercise, yeah no kidding ?"
   ]
  },
  {
   "cell_type": "markdown",
   "metadata": {},
   "source": [
    "#### Using the regularization: Modify you code of the previous question to account for the regularization. How do the models perform with  𝜆=10^6 ,  1 ,  10^−3  or  10^−5 ? Print and discuss the values of  𝜷 . Give two advantages of such regularization.\n",
    "Using the regularization is good because it shrinks the risk of overfitting values and we avoid noise modelling. \n",
    "#### Playing with  𝜆 : Interpret the solution for  𝜆=0  and  𝜆→∞ , how would you choose the best  𝜆 ?\n",
    "We can observe that as $\\lambda$ increases the value $\\beta$ tend to zero because the problem come down to minimizing the norm of $\\beta$. If we want to avoid that, we can define another \"condition\". Going from $\\lambda$ ||$\\beta$||² to $\\lambda$||$\\beta - \\beta^*$||² where $\\beta^*$ is a guess of the solution values. <br>\n",
    "For $\\lambda$ = 0, we get the previous simple problem of minimizing the cost function without taking into account the norm of $\\beta$ "
   ]
  },
  {
   "cell_type": "markdown",
   "metadata": {},
   "source": [
    "<br>\n",
    "<font size=5 color=#009999> 1.3 Dessert - What if we overfit the overfitting? </font> <br>\n",
    "\n",
    "<div class=\"alert alert-warning\">\n",
    "<b>[Question 3] When we overfit the overfitting... </b>  <br>\n",
    "<ol>\n",
    "    <li><b> How to choose $\\lambda$? </b> Let us now focus on $f_4$. Propose a procedure to choose the value of $\\lambda$.\n",
    "\n",
    "(Hint: It may be useful to compare training and test error.)\n",
    "        \n",
    "How to assess the quality of your regularized model?<br> <br>\n",
    "    <li> <b> Discussion: </b> we implemented for you a train/test procedure for choosing the best $\\lambda$.<br><br>\n",
    "        First, set <code>flag_lambda_0</code> to <samp>False</samp> and comment the two graphs. Does the value of the validation error seems intuitive to you? What can you conclude from the value of the test error? <br><br>\n",
    "        Second, set <code>flag_lambda_0</code> to <samp>True</samp> to observe the behavior of your model without regularization. What can you conclude?\n",
    "</ol>\n",
    "</div> \n",
    "\n",
    "\n",
    "\n"
   ]
  },
  {
   "cell_type": "code",
   "execution_count": 3,
   "metadata": {},
   "outputs": [
    {
     "data": {
      "image/png": "[encoded data removed]",
      "text/plain": [
       "<Figure size 432x288 with 1 Axes>"
      ]
     },
     "metadata": {
      "needs_background": "light"
     },
     "output_type": "display_data"
    },
    {
     "name": "stdout",
     "output_type": "stream",
     "text": [
      "Optimal lambda is 0.13219411484660287\n"
     ]
    },
    {
     "data": {
      "image/png": "[encoded data removed]",
      "text/plain": [
       "<Figure size 432x288 with 1 Axes>"
      ]
     },
     "metadata": {
      "needs_background": "light"
     },
     "output_type": "display_data"
    }
   ],
   "source": [
    "flag_lambda_0 = False\n",
    "\n",
    "# Remark: nothing to code below!\n",
    "\n",
    "import numpy as np\n",
    "import matplotlib as mpl\n",
    "import matplotlib.pyplot as plt\n",
    "from sklearn.model_selection import train_test_split\n",
    "\n",
    "np.random.seed(40)\n",
    "\n",
    "beta_true = [1.5, 2.4, 0, 1]  # True synthetic model\n",
    "\n",
    "n_point = 80\n",
    "\n",
    "X = np.random.rand(n_point, 1)  # Features\n",
    "N = (np.random.rand(n_point, 1)-0.5)*0.5  # Additive noise\n",
    "y = np.polyval(beta_true, X) + N  # Noisy target\n",
    "\n",
    "_X, X_test, _y, y_test = train_test_split(X, y, test_size=0.1)  # 10% test set\n",
    "\n",
    "X_train, X_val, y_train, y_val = train_test_split(_X, _y, test_size=0.366)  # 0.33% validation set\n",
    "\n",
    "\n",
    "n_train = X_train.shape[0]\n",
    "n_test = X_test.shape[0]\n",
    "n_val = X_val.shape[0]\n",
    "\n",
    "\n",
    "X_plot = np.linspace(0, 1, 200)\n",
    "\n",
    "# Plot the data with color discrimination for each set\n",
    "plt.scatter(X_train, y_train, color='blue', label='train')\n",
    "plt.scatter(X_val, y_val, color='green', label='val')\n",
    "plt.scatter(X_test, y_test, color='red', label='test')\n",
    "plt.legend()\n",
    "\n",
    "\n",
    "# Vandermonde matrix\n",
    "V_train = np.vander(np.reshape(X_train, n_train), increasing=False)\n",
    "\n",
    "lamb_points = np.logspace(3, -3, num=7)  # 6 different lambda values\n",
    "\n",
    "if flag_lambda_0:\n",
    "    lamb_points = np.append(0, lamb_points)\n",
    "colors = [mpl.cm.coolwarm (x) for x in lamb_points]\n",
    "\n",
    "\n",
    "val_err_points = []\n",
    "train_err_points = []\n",
    "val_err_line = []\n",
    "train_err_line = []\n",
    "\n",
    "# First plot: vizualization of interpolation polynomial\n",
    "# Loop through the 6 lambda values, compute the regularized model and plot the interpolation polynomial on [0, 1]\n",
    "for (l, c) in zip(lamb_points, colors):\n",
    "    beta = np.linalg.inv(V_train.T @ V_train+l*np.eye(n_train, n_train)) @ V_train.T @ y_train\n",
    "    plt.plot(X_plot, np.polyval(beta, X_plot), c=c)\n",
    "    plt.text(X_plot[-1], np.polyval(beta, X_plot[-1]), r'$\\lambda$ = %s' % l)\n",
    "    \n",
    "    val_err_points.append(np.linalg.norm(np.polyval(beta, X_val)-y_val)/np.sqrt(n_val))\n",
    "    train_err_points.append(np.linalg.norm(np.polyval(beta, X_train)-y_train)/np.sqrt(n_train))\n",
    "\n",
    "\n",
    "\n",
    "# Second plot: vizualization of training and testing errors\n",
    "\n",
    "lamb_line = np.logspace(3, -3, 100)  # More lambda values, used to plot error functions\n",
    "\n",
    "for l in lamb_line:\n",
    "    beta = np.linalg.inv(V_train.T @ V_train+l*np.eye(n_train, n_train)) @ V_train.T @ y_train\n",
    "    val_err_line.append(np.linalg.norm(np.polyval(beta, X_val)-y_val)/np.sqrt(n_val))\n",
    "    train_err_line.append(np.linalg.norm(np.polyval(beta, X_train)-y_train)/np.sqrt(n_train))\n",
    "\n",
    "  \n",
    "plt.xlabel(\"x\")\n",
    "plt.ylabel(\"y\")\n",
    "plt.title(\"Polynomial models $f_4$ and train-validation-test points\")\n",
    "plt.show()\n",
    "\n",
    "plt.plot(lamb_line, val_err_line, color='r', label='Validation error')\n",
    "plt.plot(lamb_line, train_err_line, color='b', label='Training error')\n",
    "\n",
    "if not flag_lambda_0:\n",
    "    plt.xscale('log')\n",
    "\n",
    "plt.scatter(lamb_points, val_err_points, color='r')\n",
    "plt.scatter(lamb_points, train_err_points, color='b')\n",
    "\n",
    "\n",
    "l_opt = lamb_line[np.argmin(val_err_line)]\n",
    "\n",
    "print('Optimal lambda is', l_opt)\n",
    "\n",
    "beta_opt = np.linalg.inv(V_train.T @ V_train+l_opt*np.eye(n_train, n_train)) @ V_train.T @ y_train\n",
    "test_err = np.linalg.norm(np.polyval(beta_opt, X_test)-y_test)/np.sqrt(n_test)\n",
    "\n",
    "\n",
    "\n",
    "plt.plot([l_opt, l_opt], [np.min(train_err_line), np.max(val_err_line)], linestyle='dashed', color='green', label='$\\lambda^*$')\n",
    "plt.plot([min(lamb_line), max(lamb_line)], [test_err, test_err], linestyle='dotted', color='purple', label='Test error')\n",
    "\n",
    "plt.legend()\n",
    "\n",
    "plt.xlabel(\"$\\lambda$\")\n",
    "plt.ylabel(\"Error\")\n",
    "plt.title(\"Error of $f_4$ on the validation set for varying $\\lambda$\")\n",
    "plt.show()\n"
   ]
  },
  {
   "cell_type": "markdown",
   "metadata": {},
   "source": [
    "### Observations :\n",
    "#### Flag = False : \n",
    "We can observe that the validation error is bigger than the training error. It's logical because our model is trained to have the smallest error on our training set. The best possible values for $\\lambda$ are within \\[$10^{-3}$,1\\].\n",
    "\n",
    "#### Flag = True :\n",
    "The solution we would have without regularization is horrendous. The error is sky rocketing."
   ]
  },
  {
   "cell_type": "markdown",
   "metadata": {},
   "source": [
    "<br>\n",
    "<font size=7 color=#009999>  2. Model and parameter selection </font> <br><br> \n",
    "\n",
    "You are interested in predicting the progression of diabete. For this purpose, you have access to different parameters such as age, sex, body mass index (BMI), average blood pressure and blood serum measurements. Your goal is to quantify the measure of disease progression. \n",
    "\n",
    "Let us first import the dataset (<a href=\"https://scikit-learn.org/stable/modules/generated/sklearn.datasets.load_diabetes.html#sklearn.datasets.load_diabetes\">load_diabetes</a> from sklearn). Note that there is no need to standardize the data as a preprocessing step has already been performed on them! \n",
    "\n",
    "We also split the dataset into a training and testing set, with test size 0.33."
   ]
  },
  {
   "cell_type": "code",
   "execution_count": 4,
   "metadata": {},
   "outputs": [],
   "source": [
    "from sklearn.datasets import load_diabetes\n",
    "from sklearn.model_selection import train_test_split\n",
    "\n",
    "X, y = load_diabetes(return_X_y=True) \n",
    "X_train, X_test, y_train, y_test = train_test_split(X, y, test_size=0.33, shuffle=True, random_state=1)"
   ]
  },
  {
   "cell_type": "markdown",
   "metadata": {},
   "source": [
    "To perform your regression problem, you consider three distinct methods, each of them with one parameter:\n",
    "\n",
    "- <a href=\"https://scikit-learn.org/stable/modules/generated/sklearn.neighbors.KNeighborsRegressor.html#sklearn.neighbors.KNeighborsRegressor\">k-neirest neighbors</a>, with as parameter k, the number of considered neighbors.\n",
    "- <a href=\"https://scikit-learn.org/stable/modules/generated/sklearn.linear_model.Ridge.html\">regularized linear regression </a> (also called ridge regression), with as parameter $\\lambda$ (also called $\\alpha$), the regularization strenght.  *Note the similarity with the previous exercise...*\n",
    "- <a href=\"https://scikit-learn.org/stable/modules/generated/sklearn.svm.SVR.html#sklearn.svm.SVR\">support vector machine</a> using linear kernel, with as parameter the regularization parameter $C$.\n",
    "\n",
    "\n",
    "<div class=\"alert alert-warning\">\n",
    "<b>[Question 4]</b>  <br>\n",
    "    <ol>\n",
    "        <li>To compare those methods, you need an evaluation function, computing the quality of <code>y_pred</code> knowing <code>y_real</code>. Implement a function <code>evaluate</code> that takes as argument <code>y_pred</code> and <code>y_real</code> and returns $\\frac{||y\\_pred - y\\_real||}{||y\\_real||}$. Note that we aim to have this score as close to zero as possible! <br> <br>\n",
    "        <li> Complete the function <code>evalParam</code> that takes as arguments: a set of methods, a set of dictionary of parameters for each method, a data set and an objective. This function evaluates each parameter using <a href=\"https://scikit-learn.org/stable/modules/generated/sklearn.model_selection.KFold.html#sklearn.model_selection.KFold\">K-folds</a> with 5 folds. Your K-folds should shuffle the data, with <code>random_state</code>=1. This function should return a list of vectors with the score of each parameter for each method. \n",
    "    </ol>\n",
    "</div> \n",
    "\n",
    "\n",
    "<div class=\"alert alert-block alert-info\">\n",
    "<b>Example of use of the evalParam function:</b> <br><br>\n",
    "    neigh = KNeighborsRegressor() <br>\n",
    "    methods = [neigh]<br>\n",
    "    paramN = [{\"n_neighbors\":1}, {\"n_neighbors\":5}, {\"n_neighbors\":10}]  <br>\n",
    "    param = [paramN]<br>\n",
    "    scores = evalParam(methods, param, X_train, y_train)<br>\n",
    "    print(scores)<br>\n",
    "</div>\n",
    "\n"
   ]
  },
  {
   "cell_type": "code",
   "execution_count": 5,
   "metadata": {},
   "outputs": [],
   "source": [
    "from sklearn.model_selection import KFold\n",
    "import numpy as np\n",
    "\n",
    "\"\"\" -----------------------------------------------------------------------------------------\n",
    "Evaluates the quality of y_pred knowing real values y_real as ||y_pred-y_real||/||y_real||\n",
    "INPUT: \n",
    "    - y_pred: predicted objective\n",
    "    - y_real: real objective\n",
    "OUTPUT:\n",
    "    - score: quality of the prediction: ||y_pred-y_real||/||y_real||\n",
    "----------------------------------------------------------------------------------------- \"\"\"\n",
    "def evaluate(y_pred, y_real):\n",
    "    score = np.linalg.norm(y_pred-y_real)/np.linalg.norm(y_real)\n",
    "    return score\n",
    "\n",
    "\"\"\" ------------------------------------------------------------------------------------------------\n",
    "Evaluates the methods using different parameters via a K-folds with 5 folds\n",
    "INPUT: \n",
    "    - methods: list of regressors to analyze\n",
    "    - param: list of size len(methods) containing lists of parameters (in dictionary form) to evaluate\n",
    "             in other words, param[i][j] is a dictionary of parmeters \n",
    "             (for example param[i][j] ={\"n_neigbors\":1}; while param[i] = paramN in the example above)\n",
    "    - X: dataset\n",
    "    - y: objective\n",
    "OUTPUT:\n",
    "    - score: list with same shape as param. score[i][j] = mean score over the folds, \n",
    "                                                         using method i with parameters param[i][j]\n",
    "------------------------------------------------------------------------------------------------ \"\"\"\n",
    "def evalParam(methods, param, X, y):\n",
    "    X_arr = np.array(X)\n",
    "    y_arr = np.array(y)\n",
    "    \n",
    "    #Creation of the score list, with 0-scores\n",
    "    score = []\n",
    "    for i in range(len(methods)):\n",
    "        score.append(np.zeros(len(param[i])))\n",
    "    \n",
    "    # n_splits = 5 by default but writting it down makes it more explicit and clearer.\n",
    "    kf = KFold(n_splits=5) \n",
    "    \n",
    "    for train_index, val_index in kf.split(X_arr): # TOCHANGE: Iterate over the 5 folds\n",
    "        X_train, X_val = X_arr[train_index,:], X_arr[val_index,:]\n",
    "        y_train, y_val = y_arr[train_index], y_arr[val_index]\n",
    "    \n",
    "        for meth in range(len(methods)):\n",
    "            for p in range(len(param[meth])):\n",
    "                methods[meth].set_params(**param[meth][p]) #set the parameters p to method meth\n",
    "                methods[meth].fit(X_train, y_train)\n",
    "                y_pred = methods[meth].predict(X_val) # prediction of method meth using parameters p\n",
    "                \n",
    "                score[meth][p] = evaluate(y_pred, y_val) #TODO score of method meth on parameter p. Caution that we are in for loops...\n",
    "                \n",
    "    return score"
   ]
  },
  {
   "cell_type": "markdown",
   "metadata": {},
   "source": [
    "\n",
    "<div class=\"alert alert-warning\">\n",
    "<b>[Question 5]</b>  <br>\n",
    "    Now use this function to evaluate your methods on the following parameters (using your training set!):\n",
    "    <ul>\n",
    "       <li> k = 1, 5, 10\n",
    "       <li> $\\lambda$ = 1e-5, 1e-3, 1\n",
    "       <li> C = 1e-3, 1, 1e3\n",
    "    </ul> <br>\n",
    "    Which is the best method among the nine suggested here? \n",
    "</div> "
   ]
  },
  {
   "cell_type": "code",
   "execution_count": 6,
   "metadata": {},
   "outputs": [
    {
     "name": "stdout",
     "output_type": "stream",
     "text": [
      "KNeighborsRegressor [0.41133534 0.33448328 0.32642137],\n",
      "Ridge [0.30377043 0.30381303 0.33367831],\n",
      "SVR [0.45865026 0.43114415 0.38038238]\n"
     ]
    }
   ],
   "source": [
    "from sklearn.neighbors import KNeighborsRegressor\n",
    "from sklearn.linear_model import Ridge\n",
    "from sklearn.svm import SVR\n",
    "\n",
    "neigh = KNeighborsRegressor() \n",
    "ridge = Ridge()\n",
    "svr = SVR()\n",
    "\n",
    "methods = [neigh, ridge, svr]\n",
    "paramN = [{\"n_neighbors\":1}, {\"n_neighbors\":5}, {\"n_neighbors\":10}]  \n",
    "paramR = [{\"alpha\":10**-5}, {\"alpha\":10**-3}, {\"alpha\":1}]\n",
    "paramS = [{\"C\":10**-3}, {\"C\":1}, {\"C\":10**3}]\n",
    "param = [paramN, paramR, paramS]\n",
    "scores = evalParam(methods, param, X_train, y_train)\n",
    "print(f\"KNeighborsRegressor {scores[0]},\\nRidge {scores[1]},\\nSVR {scores[2]}\")"
   ]
  },
  {
   "cell_type": "markdown",
   "metadata": {},
   "source": [
    "#### Observations :\n",
    "Best result are obtained with Ridge and the best score was obtained with parameter $\\lambda$ = $1.10^{-5}. Score is quite low which is good but might hid something wrong."
   ]
  },
  {
   "cell_type": "markdown",
   "metadata": {},
   "source": [
    "<div class=\"alert alert-warning\">\n",
    "<b>[Question 6]</b>  <br>\n",
    "It is not certain that the best regressor was obtained through the nine tests done above. Please try at least 3 other promising regressors. You can also try to modify other parameters than the one proposed here, or even try other methods.  \n",
    "</div>"
   ]
  },
  {
   "cell_type": "code",
   "execution_count": 7,
   "metadata": {},
   "outputs": [
    {
     "name": "stdout",
     "output_type": "stream",
     "text": [
      "KNeighborsRegressor [0.33740131 0.33997117 0.34271763],\n",
      "Ridge [0.30377295 0.30397893 0.30406098],\n",
      "SVR [0.32601899 0.33903864 0.36087282]\n"
     ]
    }
   ],
   "source": [
    "from sklearn.neighbors import KNeighborsRegressor\n",
    "from sklearn.linear_model import Ridge\n",
    "from sklearn.svm import SVR\n",
    "\n",
    "neigh = KNeighborsRegressor() \n",
    "ridge = Ridge()\n",
    "svr = SVR()\n",
    "\n",
    "methods = [neigh, ridge, svr]\n",
    "paramN = [{\"n_neighbors\":15}, {\"n_neighbors\":20}, {\"n_neighbors\":30}]  \n",
    "paramR = [{\"alpha\":1e-4}, {\"alpha\":1e-2}, {\"alpha\":1e-1}]\n",
    "paramS = [{\"C\":100}, {\"C\":250}, {\"C\":500}]\n",
    "param = [paramN, paramR, paramS]\n",
    "scores = evalParam(methods, param, X_train, y_train)\n",
    "print(f\"KNeighborsRegressor {scores[0]},\\nRidge {scores[1]},\\nSVR {scores[2]}\")"
   ]
  },
  {
   "cell_type": "markdown",
   "metadata": {},
   "source": [
    "#### Observations : \n",
    "Score haven't changed that much for Ridge but they got better for the SVR method and the KNN. However, because our score is quite low we might have overfit the data. "
   ]
  },
  {
   "cell_type": "markdown",
   "metadata": {},
   "source": [
    "<div class=\"alert alert-warning\">\n",
    "<b>[Question 7]</b>  <br>\n",
    "Now, check that your best model is still good on your test set and that you did not overfit your training set. \n",
    "</div>"
   ]
  },
  {
   "cell_type": "code",
   "execution_count": 8,
   "metadata": {},
   "outputs": [
    {
     "name": "stdout",
     "output_type": "stream",
     "text": [
      "KNeighborsRegressor [0.34417574 0.33548542 0.34730122],\n",
      "Ridge [0.35983614 0.34389725 0.33331518],\n",
      "SVR [0.36580297 0.39725461 0.43644043]\n"
     ]
    }
   ],
   "source": [
    "from sklearn.neighbors import KNeighborsRegressor\n",
    "from sklearn.linear_model import Ridge\n",
    "from sklearn.svm import SVR\n",
    "\n",
    "neigh = KNeighborsRegressor() \n",
    "ridge = Ridge()\n",
    "svr = SVR()\n",
    "\n",
    "methods = [neigh, ridge, svr]\n",
    "paramN = [{\"n_neighbors\":15}, {\"n_neighbors\":20}, {\"n_neighbors\":30}]  \n",
    "paramR = [{\"alpha\":1e-4}, {\"alpha\":1e-2}, {\"alpha\":1e-1}]\n",
    "paramS = [{\"C\":100}, {\"C\":250}, {\"C\":500}]\n",
    "param = [paramN, paramR, paramS]\n",
    "scores = evalParam(methods, param, X_test, y_test)\n",
    "print(f\"KNeighborsRegressor {scores[0]},\\nRidge {scores[1]},\\nSVR {scores[2]}\")"
   ]
  },
  {
   "cell_type": "markdown",
   "metadata": {},
   "source": [
    "All the score are quite similar to the previous one done on our train set. They are slightly bigger but nothing concerning. A priori, no overfitting has occured."
   ]
  },
  {
   "cell_type": "markdown",
   "metadata": {},
   "source": [
    "<br>\n",
    "<font size=7 color=#009999>  3. From regressor to classifier </font> <br><br> \n",
    "\n",
    "In this very short part, we ask you to convert your regressor to a classifier: instead of predicting the progression of diabete disease, you are going to predict <b>whether a patient is sick</b>.\n",
    "\n",
    "A simple way of doing such transformation is the <i>tresholding</i>: given a treshold $y_{\\textrm{tresh}}$, we return $0$ if our prediction $y_{\\textrm{pred}} < y_{\\textrm{tresh}}$ and 1 otherwise.\n"
   ]
  },
  {
   "cell_type": "markdown",
   "metadata": {},
   "source": [
    "<div class=\"alert alert-warning\">\n",
    "<b>[Question 8]</b>  <br>\n",
    "    <ol>\n",
    "    <li> Use your model of the previous part to design a binary classifier. You can use the mean of $y$ as treshold.\n",
    "    <li> Compute the precision and recall of your classifier.\n",
    "    </ol>\n",
    "</div>\n",
    "\n",
    "Please find below, a nice picture from [Wikipedia](https://en.wikipedia.org/wiki/Precision_and_recall) to remind you about <i>precision</i> and <i>recall</i>.\n",
    "\n",
    "<img src=\"precision_recall.png\" width = \"300\">\n",
    "\n"
   ]
  },
  {
   "cell_type": "code",
   "execution_count": 9,
   "metadata": {},
   "outputs": [
    {
     "name": "stdout",
     "output_type": "stream",
     "text": [
      "Recall 0.6724137931034483, Precision 0.6\n",
      "Double checking with sklearn function :\n",
      "Recall 0.6724137931034483, Precision 0.6\n"
     ]
    }
   ],
   "source": [
    "from sklearn.metrics import recall_score\n",
    "from sklearn.metrics import precision_score\n",
    "\n",
    "#Tresholding \n",
    "y_tresh = np.mean(y_train) \n",
    "\n",
    "y_test_bin = (y_test > y_tresh)*1.0\n",
    "y_train_bin = (y_train > y_tresh)*1.0\n",
    "\n",
    "#TODO use your best method with its best parameters to find y_pred_bin \n",
    "# Caution, your model is still trained on the original data (X_train, y_train),\n",
    "# the tresholding step occurs only at the very end.\n",
    "\n",
    "# creating the classifier and training the model\n",
    "clf = Ridge(alpha=1e-1)\n",
    "clf.fit(X_train, y_train)\n",
    "\n",
    "# predicting values with the trained classifier\n",
    "y_pred = clf.predict(X_test) \n",
    "y_pred_bin = (y_pred > y_tresh)*1.0\n",
    "\n",
    "# computing true/false positive and true/false negative\n",
    "def compute_tp_fp_tn_fn(y_act, y_pred): \n",
    "    tp = sum((y_act==1) & (y_pred==1))\n",
    "    tn = sum((y_act==0) & (y_pred==0))\n",
    "    fp = sum((y_act==0) & (y_pred==1))\n",
    "    fn = sum((y_act==1) & (y_pred==0))\n",
    "    return tp,fp,tn,fn\n",
    "\n",
    "tp,fp,tn,fn = compute_tp_fp_tn_fn(y_test_bin, y_pred_bin)\n",
    "\n",
    "#TODO find precision and recall\n",
    "recall = tp/(tp+fn)\n",
    "precision = tp/(tp+fp)\n",
    "\n",
    "print(f\"Recall {recall}, Precision {precision}\")\n",
    "print(\"Double checking with sklearn function :\")\n",
    "print(f\"Recall {recall_score(y_test_bin,y_pred_bin)}, Precision {precision_score(y_test_bin, y_pred_bin)}\")\n"
   ]
  },
  {
   "cell_type": "markdown",
   "metadata": {},
   "source": [
    "There is obviously a trade-off between precision and recall, let us investigate it here.\n",
    "<div class=\"alert alert-warning\">\n",
    "       \n",
    "<b>[Question 9]</b>  <br>\n",
    "Design a straightforward binary classifier with\n",
    "<ol>\n",
    "<li> a perfect precision\n",
    "<li> a perfect recall\n",
    "</ol>\n",
    "Then, compare the three models and discuss whether precision or recall is the most important in our specific medical application.\n",
    "</div>\n",
    "\n"
   ]
  },
  {
   "cell_type": "code",
   "execution_count": 10,
   "metadata": {},
   "outputs": [
    {
     "name": "stdout",
     "output_type": "stream",
     "text": [
      "Recall 1.0\n"
     ]
    }
   ],
   "source": [
    "# if you want a perfect recall, the most simplistic way to do that is to simply say all the time \"you're positif\" \n",
    "# because need to avoid having any false negatif.\n",
    "perfect_recall = np.array([1]*len(X_test))\n",
    "tp,fp,tn,fn = compute_tp_fp_tn_fn(y_test_bin, perfect_recall)\n",
    "recall = tp/(tp+fn)\n",
    "print(f\"Recall {recall}\")\n",
    "\n",
    "# if you want a perfect precision, it's a lot trickier to achieve that. You want to predict only the point that you're the most\n",
    "# sure about its belonging."
   ]
  },
  {
   "cell_type": "markdown",
   "metadata": {},
   "source": [
    "In our model the best thing to have would be a perfect recall. We don't care about diagnosing someone positif if they're not. What trully matters is that no positive patient is said to be negative."
   ]
  }
 ],
 "metadata": {
  "kernelspec": {
   "display_name": "Python 3",
   "language": "python",
   "name": "python3"
  },
  "language_info": {
   "codemirror_mode": {
    "name": "ipython",
    "version": 3
   },
   "file_extension": ".py",
   "mimetype": "text/x-python",
   "name": "python",
   "nbconvert_exporter": "python",
   "pygments_lexer": "ipython3",
   "version": "3.8.6"
  }
 },
 "nbformat": 4,
 "nbformat_minor": 4
}
